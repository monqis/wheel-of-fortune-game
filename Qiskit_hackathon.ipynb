{
 "cells": [
  {
   "cell_type": "code",
   "execution_count": null,
   "metadata": {},
   "outputs": [],
   "source": [
    "provider = IBMQ.load_account()"
   ]
  },
  {
   "cell_type": "code",
   "execution_count": 9,
   "metadata": {},
   "outputs": [],
   "source": [
    "%matplotlib inline\n",
    "%config InlineBackend.figure_format = 'svg'"
   ]
  },
  {
   "cell_type": "code",
   "execution_count": 10,
   "metadata": {},
   "outputs": [],
   "source": [
    "#from qiskit import QuantumCircuit, QuantumRegister, ClassicalRegister, Aer, IBMQ, transpile \n",
    "\n",
    "import qiskit\n",
    "import math\n",
    "import random\n",
    "import numpy as np\n",
    "import qiskit.quantum_info as qi\n",
    "from qiskit import QuantumCircuit, transpile\n",
    "from qiskit.quantum_info import Kraus, SuperOp\n",
    "from qiskit.providers.aer import AerSimulator\n",
    "from qiskit.tools.visualization import plot_histogram, plot_bloch_multivector\n",
    "\n",
    "import matplotlib.pyplot as plt\n",
    "from mpl_toolkits.mplot3d import Axes3D\n",
    "\n",
    "\n",
    "# Import from Qiskit Aer noise module\n",
    "from qiskit.providers.aer.noise import NoiseModel\n",
    "from qiskit.providers.aer.noise import QuantumError, ReadoutError\n",
    "from qiskit.providers.aer.noise import pauli_error\n",
    "from qiskit.providers.aer.noise import depolarizing_error\n",
    "from qiskit.providers.aer.noise import thermal_relaxation_error, amplitude_damping_error"
   ]
  },
  {
   "cell_type": "code",
   "execution_count": null,
   "metadata": {},
   "outputs": [],
   "source": [
    "# Build noise circuit \n",
    "\n",
    "n_qubits = 1\n",
    "noise_circ = QuantumCircuit(n_qubits)\n",
    "noise_circ.h(0)\n",
    "noise_circ.u(math.pi/3, 0, math.pi/6, 0)\n",
    "noise_circ.x(0)\n",
    "noise_circ.save_density_matrix(label = f'density')\n",
    "noise_circ.measure_all()\n",
    "print(noise_circ)"
   ]
  },
  {
   "cell_type": "code",
   "execution_count": null,
   "metadata": {},
   "outputs": [],
   "source": [
    "# Building noise models \n",
    "\n",
    "## Bit-flip error - on measurement \n",
    "p_bitflip_1 = 0.1\n",
    "p_bitflip_2 = 0.5\n",
    "p_bitflip_3 = 0.9\n",
    "error_bitflip_1 = pauli_error([('X',p_bitflip_1), ('I', 1 - p_bitflip_1)])\n",
    "error_bitflip_2 = pauli_error([('X',p_bitflip_2), ('I', 1 - p_bitflip_2)])\n",
    "error_bitflip_3 = pauli_error([('X',p_bitflip_3), ('I', 1 - p_bitflip_3)])\n",
    "noise_bitflip_1 = NoiseModel()\n",
    "noise_bitflip_2 = NoiseModel()\n",
    "noise_bitflip_3 = NoiseModel()\n",
    "noise_bitflip_1.add_all_qubit_quantum_error(error_bitflip_1, ['u'])\n",
    "noise_bitflip_2.add_all_qubit_quantum_error(error_bitflip_2, ['u'])\n",
    "noise_bitflip_3.add_all_qubit_quantum_error(error_bitflip_3, ['u'])\n",
    "\n",
    "## Phase-flip error \n",
    "p_phaseflip_1 = 0.1\n",
    "p_phaseflip_2 = 0.5\n",
    "p_phaseflip_3 = 0.9\n",
    "error_phaseflip_1 = pauli_error([('Z',p_phaseflip_1), ('I', 1 - p_phaseflip_1)])\n",
    "error_phaseflip_2 = pauli_error([('Z',p_phaseflip_2), ('I', 1 - p_phaseflip_2)])\n",
    "error_phaseflip_3 = pauli_error([('Z',p_phaseflip_3), ('I', 1 - p_phaseflip_3)])\n",
    "noise_phaseflip_1 = NoiseModel()\n",
    "noise_phaseflip_2 = NoiseModel()\n",
    "noise_phaseflip_3 = NoiseModel()\n",
    "noise_phaseflip_1.add_all_qubit_quantum_error(error_phaseflip_1, ['u'])\n",
    "noise_phaseflip_2.add_all_qubit_quantum_error(error_phaseflip_2, ['u'])\n",
    "noise_phaseflip_3.add_all_qubit_quantum_error(error_phaseflip_3, ['u'])\n",
    "\n",
    "## Depolarizing error \n",
    "p_depolarizing_1 = 0.1\n",
    "p_depolarizing_2 = 0.5\n",
    "p_depolarizing_3 = 0.9\n",
    "error_depolarizing_1 = depolarizing_error(p_depolarizing_1, 1)\n",
    "error_depolarizing_2 = depolarizing_error(p_depolarizing_2, 1)\n",
    "error_depolarizing_3 = depolarizing_error(p_depolarizing_3, 1)\n",
    "noise_depolarizing_1 = NoiseModel()\n",
    "noise_depolarizing_2 = NoiseModel()\n",
    "noise_depolarizing_3 = NoiseModel()\n",
    "noise_depolarizing_1.add_all_qubit_quantum_error(error_depolarizing_1, ['u'])\n",
    "noise_depolarizing_2.add_all_qubit_quantum_error(error_depolarizing_2, ['u'])\n",
    "noise_depolarizing_3.add_all_qubit_quantum_error(error_depolarizing_3, ['u'])\n",
    "\n",
    "## Amplitude damping \n",
    "p_amp_damp_1 = 0.1\n",
    "p_amp_damp_2 = 0.5\n",
    "p_amp_damp_3 = 0.9\n",
    "error_amp_damp_1 = amplitude_damping_error(p_amp_damp_1, 1)\n",
    "error_amp_damp_2 = amplitude_damping_error(p_amp_damp_2, 1)\n",
    "error_amp_damp_3 = amplitude_damping_error(p_amp_damp_3, 1)\n",
    "noise_amp_damp_1 = NoiseModel()\n",
    "noise_amp_damp_2 = NoiseModel()\n",
    "noise_amp_damp_3 = NoiseModel()\n",
    "noise_amp_damp_1.add_all_qubit_quantum_error(error_amp_damp_1, ['u'])\n",
    "noise_amp_damp_2.add_all_qubit_quantum_error(error_amp_damp_2, ['u'])\n",
    "noise_amp_damp_3.add_all_qubit_quantum_error(error_amp_damp_3, ['u'])"
   ]
  },
  {
   "cell_type": "code",
   "execution_count": null,
   "metadata": {},
   "outputs": [],
   "source": [
    "# Define simulators \n",
    "sim_ideal = AerSimulator()\n",
    "sim_noise = AerSimulator(noise_model = noise_bitflip_3)\n",
    "\n"
   ]
  },
  {
   "cell_type": "code",
   "execution_count": null,
   "metadata": {},
   "outputs": [],
   "source": [
    "# Execute my ideal circuit\n",
    "result_ideal = sim_ideal.run(noise_circ).result()\n"
   ]
  },
  {
   "cell_type": "code",
   "execution_count": null,
   "metadata": {},
   "outputs": [],
   "source": [
    "result_ideal.get_counts()"
   ]
  },
  {
   "cell_type": "code",
   "execution_count": null,
   "metadata": {},
   "outputs": [],
   "source": [
    "# Execute my noisy circuit\n",
    "circ_tnoise = transpile(noise_circ, sim_noise)\n",
    "result_bit_flip = sim_noise.run(circ_tnoise).result()"
   ]
  },
  {
   "cell_type": "code",
   "execution_count": null,
   "metadata": {},
   "outputs": [],
   "source": [
    "result_bit_flip"
   ]
  },
  {
   "cell_type": "code",
   "execution_count": null,
   "metadata": {},
   "outputs": [],
   "source": [
    "bit_flip_counts = result_bit_flip.get_counts()"
   ]
  },
  {
   "cell_type": "code",
   "execution_count": null,
   "metadata": {},
   "outputs": [],
   "source": [
    "bit_flip_counts"
   ]
  },
  {
   "cell_type": "code",
   "execution_count": null,
   "metadata": {},
   "outputs": [],
   "source": [
    "bit_flip_counts['0']/1024"
   ]
  },
  {
   "cell_type": "code",
   "execution_count": null,
   "metadata": {},
   "outputs": [],
   "source": [
    "plot_histogram(bit_flip_counts)"
   ]
  },
  {
   "cell_type": "code",
   "execution_count": null,
   "metadata": {},
   "outputs": [],
   "source": [
    "print(type(plot_histogram))"
   ]
  },
  {
   "cell_type": "code",
   "execution_count": null,
   "metadata": {},
   "outputs": [],
   "source": [
    "result_bit_flip.data(0)"
   ]
  },
  {
   "cell_type": "code",
   "execution_count": null,
   "metadata": {},
   "outputs": [],
   "source": [
    "plot_bloch_multivector(result_bit_flip.data(0)['density'])\n",
    "\n"
   ]
  },
  {
   "cell_type": "code",
   "execution_count": 12,
   "metadata": {},
   "outputs": [],
   "source": [
    "def noisy_circuit_model(integer, p):\n",
    "    \"\"\" function which computes the probablity \"\"\"\n",
    "    if integer == 0:\n",
    "        error_bitflip_1 = pauli_error([('X',p), ('I', 1 - p)])\n",
    "        noise_bitflip_1 = NoiseModel()\n",
    "        noise_bitflip_1.add_all_qubit_quantum_error(error_bitflip_1, ['u'])\n",
    "        sim_noise = AerSimulator(noise_model = noise_bitflip_1)\n",
    "    elif integer == 1:\n",
    "        error_phaseflip_1 = pauli_error([('Z',p), ('I', 1 - p)])\n",
    "        noise_phaseflip_1 = NoiseModel()\n",
    "        noise_phaseflip_1.add_all_qubit_quantum_error(error_phaseflip_1, ['u'])\n",
    "        sim_noise = AerSimulator(noise_model = noise_phaseflip_1)\n",
    "    elif integer == 2:\n",
    "        error_depolarizing_1 = depolarizing_error(p, 1)\n",
    "        noise_depolarizing_1 = NoiseModel()\n",
    "        noise_depolarizing_1.add_all_qubit_quantum_error(error_depolarizing_1, ['u'])\n",
    "        sim_noise = AerSimulator(noise_model = noise_depolarizing_1)\n",
    "    elif integer == 3:\n",
    "        error_amp_damp_1 = amplitude_damping_error(p, 1)\n",
    "        noise_amp_damp_1 = NoiseModel()\n",
    "        noise_amp_damp_1.add_all_qubit_quantum_error(error_amp_damp_1, ['u'])\n",
    "        sim_noise = AerSimulator(noise_model = noise_amp_damp_1)\n",
    "        \n",
    "    n_qubits = 1\n",
    "    noise_circ = QuantumCircuit(n_qubits)\n",
    "    noise_circ.h(0)\n",
    "    noise_circ.u(math.pi/3, 0, math.pi/6, 0)\n",
    "    noise_circ.x(0)\n",
    "    noise_circ.save_density_matrix(label = 'density')\n",
    "    noise_circ.measure_all()\n",
    "  \n",
    "    circ_tnoise = transpile(noise_circ, sim_noise)\n",
    "    result = sim_noise.run(circ_tnoise).result()\n",
    "    counts = result.get_counts()\n",
    "    \n",
    "    prob_0 = counts['0']/1024\n",
    "    prob_1 = counts['1']/1024\n",
    "    \n",
    "    result_prob = random.choices([0,1],(counts['0'],counts['1']))\n",
    "    plot_bloch_multivector(result.data(0)['density']).savefig('./bloch_vector.png')\n",
    "    plot_histogram(counts).savefig('./histogram.png')\n",
    "    return result_prob[0]\n",
    "        "
   ]
  },
  {
   "cell_type": "code",
   "execution_count": 13,
   "metadata": {},
   "outputs": [
    {
     "data": {
      "text/plain": [
       "1"
      ]
     },
     "execution_count": 13,
     "metadata": {},
     "output_type": "execute_result"
    }
   ],
   "source": [
    "noisy_circuit_model(0,0.8)"
   ]
  },
  {
   "cell_type": "code",
   "execution_count": null,
   "metadata": {},
   "outputs": [],
   "source": []
  }
 ],
 "metadata": {
  "kernelspec": {
   "display_name": "Python 3",
   "language": "python",
   "name": "python3"
  },
  "language_info": {
   "codemirror_mode": {
    "name": "ipython",
    "version": 3
   },
   "file_extension": ".py",
   "mimetype": "text/x-python",
   "name": "python",
   "nbconvert_exporter": "python",
   "pygments_lexer": "ipython3",
   "version": "3.7.4"
  }
 },
 "nbformat": 4,
 "nbformat_minor": 2
}
