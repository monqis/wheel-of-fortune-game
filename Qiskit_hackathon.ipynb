{
 "cells": [
  {
   "cell_type": "code",
   "execution_count": null,
   "metadata": {},
   "outputs": [],
   "source": [
    "provider = IBMQ.load_account()"
   ]
  },
  {
   "cell_type": "code",
   "execution_count": 228,
   "metadata": {},
   "outputs": [],
   "source": [
    "#from qiskit import QuantumCircuit, QuantumRegister, ClassicalRegister, Aer, IBMQ, transpile \n",
    "\n",
    "import qiskit\n",
    "import math\n",
    "import numpy as np\n",
    "import qiskit.quantum_info as qi\n",
    "from qiskit import QuantumCircuit, transpile\n",
    "from qiskit.quantum_info import Kraus, SuperOp\n",
    "from qiskit.providers.aer import AerSimulator\n",
    "from qiskit.tools.visualization import plot_histogram\n",
    "\n",
    "\n",
    "# Import from Qiskit Aer noise module\n",
    "from qiskit.providers.aer.noise import NoiseModel\n",
    "from qiskit.providers.aer.noise import QuantumError, ReadoutError\n",
    "from qiskit.providers.aer.noise import pauli_error\n",
    "from qiskit.providers.aer.noise import depolarizing_error\n",
    "from qiskit.providers.aer.noise import thermal_relaxation_error, amplitude_damping_error"
   ]
  },
  {
   "cell_type": "code",
   "execution_count": 229,
   "metadata": {},
   "outputs": [
    {
     "data": {
      "text/plain": [
       "[AerSimulator('aer_simulator'),\n",
       " AerSimulator('aer_simulator_statevector'),\n",
       " AerSimulator('aer_simulator_density_matrix'),\n",
       " AerSimulator('aer_simulator_stabilizer'),\n",
       " AerSimulator('aer_simulator_matrix_product_state'),\n",
       " AerSimulator('aer_simulator_extended_stabilizer'),\n",
       " AerSimulator('aer_simulator_unitary'),\n",
       " AerSimulator('aer_simulator_superop'),\n",
       " QasmSimulator('qasm_simulator'),\n",
       " StatevectorSimulator('statevector_simulator'),\n",
       " UnitarySimulator('unitary_simulator'),\n",
       " PulseSimulator('pulse_simulator')]"
      ]
     },
     "execution_count": 229,
     "metadata": {},
     "output_type": "execute_result"
    }
   ],
   "source": [
    "Aer.backends()"
   ]
  },
  {
   "cell_type": "code",
   "execution_count": 245,
   "metadata": {},
   "outputs": [
    {
     "name": "stdout",
     "output_type": "stream",
     "text": [
      "        ┌───┐┌──────────────┐┌───┐ ░  ░ ┌─┐\n",
      "     q: ┤ H ├┤ U(π/3,0,π/6) ├┤ X ├─░──░─┤M├\n",
      "        └───┘└──────────────┘└───┘ ░  ░ └╥┘\n",
      "meas: 1/═════════════════════════════════╩═\n",
      "                                         0 \n"
     ]
    }
   ],
   "source": [
    "# Build noise circuit \n",
    "\n",
    "n_qubits = 1\n",
    "noise_circ = QuantumCircuit(n_qubits)\n",
    "noise_circ.h(0)\n",
    "noise_circ.u(math.pi/3, 0, math.pi/6, 0)\n",
    "noise_circ.x(0)\n",
    "noise_circ.save_density_matrix(label = 'density')\n",
    "noise_circ.measure_all()\n",
    "print(noise_circ)"
   ]
  },
  {
   "cell_type": "code",
   "execution_count": 246,
   "metadata": {},
   "outputs": [],
   "source": [
    "# Building noise models \n",
    "\n",
    "## Bit-flip error - on measurement \n",
    "p_bitflip_1 = 0.1\n",
    "p_bitflip_2 = 0.5\n",
    "p_bitflip_3 = 0.9\n",
    "error_bitflip_1 = pauli_error([('X',p_bitflip_1), ('I', 1 - p_bitflip_1)])\n",
    "error_bitflip_2 = pauli_error([('X',p_bitflip_2), ('I', 1 - p_bitflip_2)])\n",
    "error_bitflip_3 = pauli_error([('X',p_bitflip_3), ('I', 1 - p_bitflip_3)])\n",
    "noise_bitflip_1 = NoiseModel()\n",
    "noise_bitflip_2 = NoiseModel()\n",
    "noise_bitflip_3 = NoiseModel()\n",
    "noise_bitflip_1.add_all_qubit_quantum_error(error_bitflip_1, ['u'])\n",
    "noise_bitflip_2.add_all_qubit_quantum_error(error_bitflip_2, ['u'])\n",
    "noise_bitflip_3.add_all_qubit_quantum_error(error_bitflip_3, ['u'])\n",
    "\n",
    "## Phase-flip error \n",
    "p_phaseflip_1 = 0.1\n",
    "p_phaseflip_2 = 0.5\n",
    "p_phaseflip_3 = 0.9\n",
    "error_phaseflip_1 = pauli_error([('Z',p_phaseflip_1), ('I', 1 - p_phaseflip_1)])\n",
    "error_phaseflip_2 = pauli_error([('Z',p_phaseflip_2), ('I', 1 - p_phaseflip_2)])\n",
    "error_phaseflip_3 = pauli_error([('Z',p_phaseflip_3), ('I', 1 - p_phaseflip_3)])\n",
    "noise_phaseflip_1 = NoiseModel()\n",
    "noise_phaseflip_2 = NoiseModel()\n",
    "noise_phaseflip_3 = NoiseModel()\n",
    "noise_phaseflip_1.add_all_qubit_quantum_error(error_phaseflip_1, ['u'])\n",
    "noise_phaseflip_2.add_all_qubit_quantum_error(error_phaseflip_2, ['u'])\n",
    "noise_phaseflip_3.add_all_qubit_quantum_error(error_phaseflip_3, ['u'])\n",
    "\n",
    "## Depolarizing error \n",
    "p_depolarizing_1 = 0.1\n",
    "p_depolarizing_2 = 0.5\n",
    "p_depolarizing_3 = 0.9\n",
    "error_depolarizing_1 = depolarizing_error(p_depolarizing_1, 1)\n",
    "error_depolarizing_2 = depolarizing_error(p_depolarizing_2, 1)\n",
    "error_depolarizing_3 = depolarizing_error(p_depolarizing_3, 1)\n",
    "noise_depolarizing_1 = NoiseModel()\n",
    "noise_depolarizing_2 = NoiseModel()\n",
    "noise_depolarizing_3 = NoiseModel()\n",
    "noise_depolarizing_1.add_all_qubit_quantum_error(error_depolarizing_1, ['u'])\n",
    "noise_depolarizing_2.add_all_qubit_quantum_error(error_depolarizing_2, ['u'])\n",
    "noise_depolarizing_3.add_all_qubit_quantum_error(error_depolarizing_3, ['u'])\n",
    "\n",
    "## Amplitude damping \n",
    "p_amp_damp_1 = 0.1\n",
    "p_amp_damp_2 = 0.5\n",
    "p_amp_damp_3 = 0.9\n",
    "error_amp_damp_1 = amplitude_damping_error(p_amp_damp_1, 1)\n",
    "error_amp_damp_2 = amplitude_damping_error(p_amp_damp_2, 1)\n",
    "error_amp_damp_3 = amplitude_damping_error(p_amp_damp_3, 1)\n",
    "noise_amp_damp_1 = NoiseModel()\n",
    "noise_amp_damp_2 = NoiseModel()\n",
    "noise_amp_damp_3 = NoiseModel()\n",
    "noise_amp_damp_1.add_all_qubit_quantum_error(error_amp_damp_1, ['u'])\n",
    "noise_amp_damp_2.add_all_qubit_quantum_error(error_amp_damp_2, ['u'])\n",
    "noise_amp_damp_3.add_all_qubit_quantum_error(error_amp_damp_3, ['u'])"
   ]
  },
  {
   "cell_type": "code",
   "execution_count": 247,
   "metadata": {},
   "outputs": [],
   "source": [
    "# Define simulators \n",
    "sim_ideal = AerSimulator()\n",
    "sim_noise = AerSimulator(noise_model = noise_amp_damp_2)\n",
    "\n"
   ]
  },
  {
   "cell_type": "code",
   "execution_count": 248,
   "metadata": {},
   "outputs": [],
   "source": [
    "# Execute my ideal circuit\n",
    "result_ideal = sim_ideal.run(noise_circ).result()\n"
   ]
  },
  {
   "cell_type": "code",
   "execution_count": 249,
   "metadata": {},
   "outputs": [
    {
     "data": {
      "text/plain": [
       "{'1': 130, '0': 894}"
      ]
     },
     "execution_count": 249,
     "metadata": {},
     "output_type": "execute_result"
    }
   ],
   "source": [
    "result_ideal.get_counts()"
   ]
  },
  {
   "cell_type": "code",
   "execution_count": 250,
   "metadata": {},
   "outputs": [],
   "source": [
    "# Execute my noisy circuit\n",
    "circ_tnoise = transpile(noise_circ, sim_noise)\n",
    "result_bit_flip = sim_noise.run(circ_tnoise).result()"
   ]
  },
  {
   "cell_type": "code",
   "execution_count": 251,
   "metadata": {},
   "outputs": [],
   "source": [
    "bit_flip_counts = result_bit_flip.get_counts()"
   ]
  },
  {
   "cell_type": "code",
   "execution_count": 252,
   "metadata": {},
   "outputs": [
    {
     "data": {
      "image/png": "[encoded data removed]",
      "text/plain": [
       "<Figure size 504x360 with 1 Axes>"
      ]
     },
     "execution_count": 252,
     "metadata": {},
     "output_type": "execute_result"
    }
   ],
   "source": [
    "plot_histogram(bit_flip_counts)"
   ]
  },
  {
   "cell_type": "code",
   "execution_count": 226,
   "metadata": {},
   "outputs": [
    {
     "data": {
      "text/plain": [
       "Result(backend_name='aer_simulator', backend_version='0.10.4', qobj_id='5f21dafa-cbc1-4fdc-bf48-9865984ec8d4', job_id='517d16a4-65c4-41a7-96ff-883854deb78c', success=True, results=[ExperimentResult(shots=1024, success=True, meas_level=2, data=ExperimentResultData(counts={'0x0': 210, '0x1': 814}, density_matrix=DensityMatrix([[0.2       +0.j , 0.21650635-0.2j],\n",
       "               [0.21650635+0.2j, 0.8       +0.j ]],\n",
       "              dims=(2,))), header=QobjExperimentHeader(clbit_labels=[['meas', 0]], creg_sizes=[['meas', 1]], global_phase=0.33347317225183204, memory_slots=1, metadata={}, n_qubits=1, name='circuit-529', qreg_sizes=[['q', 1]], qubit_labels=[['q', 0]]), status=DONE, seed_simulator=2699426670, metadata={'noise': 'superop', 'batched_shots_optimization': False, 'remapped_qubits': False, 'parallel_state_update': 4, 'parallel_shots': 1, 'device': 'CPU', 'active_input_qubits': [0], 'measure_sampling': True, 'num_clbits': 1, 'input_qubit_map': [[0, 0]], 'num_qubits': 1, 'method': 'density_matrix', 'result_subtypes': {'density_matrix': 'average'}, 'result_types': {'density_matrix': 'save_density_matrix'}, 'fusion': {'applied': False, 'max_fused_qubits': 5, 'threshold': 14, 'enabled': True}}, time_taken=0.016414224)], date=2022-07-06T14:06:40.906541, status=COMPLETED, status=QobjHeader(backend_name='aer_simulator', backend_version='0.10.4'), metadata={'mpi_rank': 0, 'time_taken': 0.017013178, 'max_gpu_memory_mb': 0, 'time_taken_execute': 0.016614034, 'max_memory_mb': 8192, 'time_taken_load_qobj': 0.000387996, 'parallel_experiments': 1, 'num_mpi_processes': 1, 'omp_enabled': True}, time_taken=0.01749587059020996)"
      ]
     },
     "execution_count": 226,
     "metadata": {},
     "output_type": "execute_result"
    }
   ],
   "source": [
    "result_bit_flip"
   ]
  },
  {
   "cell_type": "code",
   "execution_count": null,
   "metadata": {},
   "outputs": [],
   "source": []
  },
  {
   "cell_type": "code",
   "execution_count": null,
   "metadata": {},
   "outputs": [],
   "source": []
  }
 ],
 "metadata": {
  "kernelspec": {
   "display_name": "Python 3",
   "language": "python",
   "name": "python3"
  },
  "language_info": {
   "codemirror_mode": {
    "name": "ipython",
    "version": 3
   },
   "file_extension": ".py",
   "mimetype": "text/x-python",
   "name": "python",
   "nbconvert_exporter": "python",
   "pygments_lexer": "ipython3",
   "version": "3.7.4"
  }
 },
 "nbformat": 4,
 "nbformat_minor": 2
}
